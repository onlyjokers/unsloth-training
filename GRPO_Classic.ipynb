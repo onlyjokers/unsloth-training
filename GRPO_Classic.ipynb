{
 "cells": [
  {
   "cell_type": "markdown",
   "metadata": {
    "id": "4whfu8wzPjQO"
   },
   "source": [
    "To run this, press \"*Runtime*\" and press \"*Run all*\" on a **free** Tesla T4 Google Colab instance!\n",
    "<div class=\"align-center\">\n",
    "<a href=\"https://unsloth.ai/\"><img src=\"https://github.com/unslothai/unsloth/raw/main/images/unsloth%20new%20logo.png\" width=\"115\"></a>\n",
    "<a href=\"https://discord.gg/unsloth\"><img src=\"https://github.com/unslothai/unsloth/raw/main/images/Discord button.png\" width=\"145\"></a>\n",
    "<a href=\"https://docs.unsloth.ai/\"><img src=\"https://github.com/unslothai/unsloth/blob/main/images/documentation%20green%20button.png?raw=true\" width=\"125\"></a></a> Join Discord if you need help + ⭐ <i>Star us on <a href=\"https://github.com/unslothai/unsloth\">Github</a> </i> ⭐\n",
    "</div>\n",
    "\n",
    "To install Unsloth on your own computer, follow the installation instructions on our Github page [here](https://docs.unsloth.ai/get-started/installing-+-updating).\n",
    "\n",
    "You will learn how to do [data prep](#Data), how to [train](#Train), how to [run the model](#Inference), & [how to save it](#Save)\n"
   ]
  },
  {
   "cell_type": "markdown",
   "metadata": {
    "id": "MgjdVJflPjQO"
   },
   "source": [
    "### News"
   ]
  },
  {
   "cell_type": "markdown",
   "metadata": {
    "id": "biwbaQvsPjQO"
   },
   "source": [
    "**Read our [blog post](https://unsloth.ai/blog/r1-reasoning) for guidance on how to train reasoning models.**\n",
    "\n",
    "Visit our docs for all our [model uploads](https://docs.unsloth.ai/get-started/all-our-models) and [notebooks](https://docs.unsloth.ai/get-started/unsloth-notebooks).\n"
   ]
  },
  {
   "cell_type": "markdown",
   "metadata": {
    "id": "jdjNKWvSPjQP"
   },
   "source": [
    "### Unsloth"
   ]
  },
  {
   "cell_type": "markdown",
   "metadata": {
    "id": "XaBUw4wJ2WlP"
   },
   "source": [
    "Use `PatchFastRL` before all functions to patch GRPO and other RL algorithms!"
   ]
  },
  {
   "cell_type": "code",
   "execution_count": 1,
   "metadata": {
    "colab": {
     "base_uri": "https://localhost:8080/"
    },
    "id": "59DIs5BMcvjN",
    "outputId": "5d03d8e6-d961-4101-8cd5-669944f91a5e"
   },
   "outputs": [
    {
     "name": "stdout",
     "output_type": "stream",
     "text": [
      "🦥 Unsloth: Will patch your computer to enable 2x faster free finetuning.\n",
      "🦥 Unsloth Zoo will now patch everything to make training faster!\n"
     ]
    }
   ],
   "source": [
    "from unsloth import FastLanguageModel, PatchFastRL\n",
    "PatchFastRL(\"GRPO\", FastLanguageModel)"
   ]
  },
  {
   "cell_type": "code",
   "execution_count": 2,
   "metadata": {
    "colab": {
     "base_uri": "https://localhost:8080/",
     "height": 805,
     "referenced_widgets": [
      "f57d844b2efa469e8aadd48175ce70ab",
      "47d2fd7f76754d9fa156576bc0c58abb",
      "81a0791760de4dcebd543c40d2c1e322",
      "a729c5fc5c764c85885cac7a2d4d95d0",
      "d6d5a7d96a034247b38d25d8a9cc979c",
      "4c9248100f89400d9e1407dbb168d5d6",
      "96cea0d773c8426b8be72dd7f72e5a82",
      "1b9f8a2a793640d689abc10f5f39c54b",
      "627f68389cf64e2a915a72ab147ee8a7",
      "9eed940f3815428583b4ddefc1a81469",
      "0b9230e976b34a9ea85978cf22857012",
      "22e0933485c14d94b0c1cfe198d6758f",
      "43462d5de24b4e55871b3f579798b374",
      "99577e7cbed74c89afb3d44d4fd956c5",
      "d034c840e7f74177a7b07a188d666b8d",
      "0f8ead1775934dc3a10533b67b3dd905",
      "e43ad27d5d304d1ebf9b374016409a97",
      "51948945111f437c9ed6ccab22072dd3",
      "4089236deafd4fa2be86d8dc0a29d469",
      "78cc90a50c0c4636b0f41436a820ecd3",
      "129dc789722b43439574390bba63b36a",
      "8991360910ef417db03499f76f5fe323"
     ]
    },
    "id": "DkIvEkIIkEyB",
    "outputId": "c5a32856-2166-4485-fdb3-16241d0e6316"
   },
   "outputs": [
    {
     "name": "stdout",
     "output_type": "stream",
     "text": [
      "INFO 03-11 00:49:29 __init__.py:207] Automatically detected platform cuda.\n",
      "==((====))==  Unsloth 2025.3.8: Fast Qwen2 patching. Transformers: 4.49.0. vLLM: 0.7.3.\n",
      "   \\\\   /|    NVIDIA GeForce RTX 4070 Ti SUPER. Num GPUs = 1. Max memory: 15.992 GB. Platform: Linux.\n",
      "O^O/ \\_/ \\    Torch: 2.5.1+cu124. CUDA: 8.9. CUDA Toolkit: 12.4. Triton: 3.1.0\n",
      "\\        /    Bfloat16 = TRUE. FA [Xformers = 0.0.28.post3. FA2 = False]\n",
      " \"-____-\"     Free license: http://github.com/unslothai/unsloth\n",
      "Unsloth: Fast downloading is enabled - ignore downloading bars which are red colored!\n",
      "Unsloth: vLLM loading /home/projects/unsloth-training/models/Qwen2.5-3B-Instruct with actual GPU utilization = 82.75%\n",
      "Unsloth: Your GPU has CUDA compute capability 8.9 with VRAM = 15.99 GB.\n",
      "Unsloth: Using conservativeness = 1.0. Chunked prefill tokens = 1024. Num Sequences = 192.\n",
      "Unsloth: vLLM's KV Cache can use up to 7.37 GB. Also swap space = 2 GB.\n",
      "INFO 03-11 00:50:13 config.py:549] This model supports multiple tasks: {'classify', 'generate', 'score', 'reward', 'embed'}. Defaulting to 'generate'.\n",
      "INFO 03-11 00:50:13 llm_engine.py:234] Initializing a V0 LLM engine (v0.7.3) with config: model='/home/projects/unsloth-training/models/Qwen2.5-3B-Instruct', speculative_config=None, tokenizer='/home/projects/unsloth-training/models/Qwen2.5-3B-Instruct', skip_tokenizer_init=False, tokenizer_mode=auto, revision=None, override_neuron_config=None, tokenizer_revision=None, trust_remote_code=False, dtype=torch.bfloat16, max_seq_len=1024, download_dir=None, load_format=LoadFormat.AUTO, tensor_parallel_size=1, pipeline_parallel_size=1, disable_custom_all_reduce=False, quantization=None, enforce_eager=False, kv_cache_dtype=auto,  device_config=cuda:0, decoding_config=DecodingConfig(guided_decoding_backend='xgrammar'), observability_config=ObservabilityConfig(otlp_traces_endpoint=None, collect_model_forward_time=False, collect_model_execute_time=False), seed=0, served_model_name=/home/projects/unsloth-training/models/Qwen2.5-3B-Instruct, num_scheduler_steps=1, multi_step_stream_outputs=True, enable_prefix_caching=True, chunked_prefill_enabled=False, use_async_output_proc=True, disable_mm_preprocessor_cache=False, mm_processor_kwargs=None, pooler_config=None, compilation_config={\"level\":0,\"splitting_ops\":[],\"compile_sizes\":[],\"cudagraph_capture_sizes\":[192,184,176,168,160,152,144,136,128,120,112,104,96,88,80,72,64,56,48,40,32,24,16,8,4,2,1],\"max_capture_size\":192}, use_cached_outputs=False, \n",
      "WARNING 03-11 00:50:13 interface.py:304] Using 'pin_memory=False' as WSL is detected. This may slow down the performance.\n",
      "INFO 03-11 00:50:13 cuda.py:229] Using Flash Attention backend.\n",
      "INFO 03-11 00:50:24 model_runner.py:1110] Starting to load model /home/projects/unsloth-training/models/Qwen2.5-3B-Instruct...\n"
     ]
    },
    {
     "name": "stderr",
     "output_type": "stream",
     "text": [
      "[W311 00:50:23.882242727 CUDAAllocatorConfig.h:28] Warning: expandable_segments not supported on this platform (function operator())\n"
     ]
    },
    {
     "data": {
      "application/vnd.jupyter.widget-view+json": {
       "model_id": "e7bad27dd45e42afbde3d5d3c7d974d1",
       "version_major": 2,
       "version_minor": 0
      },
      "text/plain": [
       "Loading safetensors checkpoint shards:   0% Completed | 0/2 [00:00<?, ?it/s]\n"
      ]
     },
     "metadata": {},
     "output_type": "display_data"
    },
    {
     "name": "stdout",
     "output_type": "stream",
     "text": [
      "INFO 03-11 00:50:29 model_runner.py:1115] Loading model weights took 5.7701 GB\n",
      "INFO 03-11 00:50:29 punica_selector.py:18] Using PunicaWrapperGPU.\n",
      "INFO 03-11 00:50:31 worker.py:267] Memory profiling takes 1.45 seconds\n",
      "INFO 03-11 00:50:31 worker.py:267] the current vLLM instance can use total_gpu_memory (15.99GiB) x gpu_memory_utilization (0.83) = 13.23GiB\n",
      "INFO 03-11 00:50:31 worker.py:267] model weights take 5.77GiB; non_torch_memory takes 0.05GiB; PyTorch activation peak memory takes 1.05GiB; the rest of the memory reserved for KV Cache is 6.37GiB.\n",
      "INFO 03-11 00:50:31 executor_base.py:111] # cuda blocks: 11595, # CPU blocks: 3640\n",
      "INFO 03-11 00:50:31 executor_base.py:116] Maximum concurrency for 1024 tokens per request: 181.17x\n",
      "INFO 03-11 00:50:31 model_runner.py:1434] Capturing cudagraphs for decoding. This may lead to unexpected consequences if the model is not static. To run the model in eager mode, set 'enforce_eager=True' or use '--enforce-eager' in the CLI. If out-of-memory error occurs during cudagraph capture, consider decreasing `gpu_memory_utilization` or switching to eager mode. You can also reduce the `max_num_seqs` as needed to decrease memory usage.\n"
     ]
    },
    {
     "name": "stderr",
     "output_type": "stream",
     "text": [
      "Capturing CUDA graph shapes: 100%|██████████| 27/27 [00:14<00:00,  1.81it/s]"
     ]
    },
    {
     "name": "stdout",
     "output_type": "stream",
     "text": [
      "INFO 03-11 00:50:46 model_runner.py:1562] Graph capturing finished in 15 secs, took 0.32 GiB\n",
      "INFO 03-11 00:50:46 llm_engine.py:436] init engine (profile, create kv cache, warmup model) took 17.06 seconds\n"
     ]
    },
    {
     "name": "stderr",
     "output_type": "stream",
     "text": [
      "\n",
      "Sliding Window Attention is enabled but not implemented for `eager`; unexpected results may be encountered.\n",
      "Not an error, but Unsloth cannot patch O projection layer with our manual autograd engine since either LoRA adapters\n",
      "are not enabled or a bias term (like in Qwen) is used.\n",
      "Unsloth 2025.3.8 patched 36 layers with 36 QKV layers, 0 O layers and 36 MLP layers.\n"
     ]
    }
   ],
   "source": [
    "from unsloth import is_bfloat16_supported\n",
    "import torch\n",
    "max_seq_length = 1024 # 最大序列长度，可以增加以支持更长的推理文本\n",
    "lora_rank = 32 # LoRA的秩，数值越大模型越智能但训练速度越慢 # 16\n",
    "\n",
    "model, tokenizer = FastLanguageModel.from_pretrained(\n",
    "    model_name = \"/home/projects/unsloth-training/models/Qwen2.5-3B-Instruct\", # 预训练模型的路径，或者hf名称\n",
    "    max_seq_length = max_seq_length, # 设置最大序列长度\n",
    "    load_in_4bit = False, # 使用4位量化加载模型，可以节省显存 #True\n",
    "    fast_inference = True,# 启用vLLM加速推理\n",
    "    max_lora_rank = lora_rank, # 设置LoRA的最大秩\n",
    "    gpu_memory_utilization = 0.9, # GPU内存使用率，如果出现OOM可以降低此值\n",
    ")\n",
    "\n",
    "model = FastLanguageModel.get_peft_model(\n",
    "    model, # 预先加载模型\n",
    "    r = lora_rank, # LoRA的秩，建议值为8, 16, 32, 64或128\n",
    "    target_modules = [\"gate_proj\", \"up_proj\", \"down_proj\",], # 需要应用LoRA的目标模块\n",
    "    lora_alpha = lora_rank, # LoRA缩放参数，通常设为与r相同\n",
    "    use_gradient_checkpointing = \"unsloth\", # 启用梯度检查点以支持长文本微调\n",
    "    random_state = 3407,  # 随机数种子，确保结果可重现\n",
    ")"
   ]
  },
  {
   "cell_type": "markdown",
   "metadata": {
    "id": "SSlkA49z2xZB"
   },
   "source": [
    "### Data Prep\n",
    "<a name=\"Data\"></a>\n",
    "\n",
    "We directly leverage [@willccbb](https://gist.github.com/willccbb/4676755236bb08cab5f4e54a0475d6fb) for data prep and all reward functions. You are free to create your own!"
   ]
  },
  {
   "cell_type": "code",
   "execution_count": null,
   "metadata": {
    "id": "cXk993X6C2ZZ"
   },
   "outputs": [
    {
     "name": "stdout",
     "output_type": "stream",
     "text": [
      "Dataset keys: dict_keys(['instruction', 'input', 'output'])\n"
     ]
    },
    {
     "data": {
      "application/vnd.jupyter.widget-view+json": {
       "model_id": "cfd4c1b6ec13405cbb407c4ca2a5a30d",
       "version_major": 2,
       "version_minor": 0
      },
      "text/plain": [
       "Map:   0%|          | 0/2008 [00:00<?, ? examples/s]"
      ]
     },
     "metadata": {},
     "output_type": "display_data"
    }
   ],
   "source": [
    "# 导入必要的库\n",
    "import re  # 导入正则表达式库，用于字符串匹配和提取\n",
    "from datasets import load_dataset, Dataset  # 导入数据集处理相关库\n",
    "\n",
    "# 定义系统提示，指定响应格式\n",
    "SYSTEM_PROMPT = \"\"\"\n",
    "回答遵循以下格式：\n",
    "<reasoning>\n",
    "...\n",
    "</reasoning>\n",
    "<answer>\n",
    "...\n",
    "</answer>\n",
    "\"\"\"\n",
    "\n",
    "# 定义XML格式的思维链(Chain of Thought)格式模板\n",
    "XML_COT_FORMAT = \"\"\"\\\n",
    "<reasoning>\n",
    "{reasoning}\n",
    "</reasoning>\n",
    "<answer>\n",
    "{answer}\n",
    "</answer>\n",
    "\"\"\"\n",
    "\n",
    "def extract_xml_answer(text: str) -> str:\n",
    "    \"\"\"\n",
    "    从包含XML标签的文本中提取<answer>标签内的答案\n",
    "    \n",
    "    参数:\n",
    "        text: 包含XML标签的文本\n",
    "        \n",
    "    返回:\n",
    "        str: 提取出的答案文本，去除首尾空格\n",
    "    \"\"\"\n",
    "    answer = text.split(\"<answer>\")[-1]  # 提取<answer>标签后的内容\n",
    "    answer = answer.split(\"</answer>\")[0]  # 提取</answer>标签前的内容\n",
    "    return answer.strip()  # 去除首尾空格\n",
    "\n",
    "def extract_hash_answer(text: str) -> str | None:\n",
    "    \"\"\"\n",
    "    从文本中提取####标记后的答案（用于处理某些特定格式的数据）\n",
    "    \n",
    "    参数:\n",
    "        text: 包含####标记的文本\n",
    "        \n",
    "    返回:\n",
    "        str | None: 提取出的答案文本或None（如果没有####标记）\n",
    "    \"\"\"\n",
    "    if \"####\" not in text:  # 检查文本中是否有####标记\n",
    "        return None\n",
    "    return text.split(\"####\")[1].strip()  # 提取####标记后的内容并去除首尾空格\n",
    "\n",
    "# 加载数据集的函数\n",
    "def get_gsm8k_questions(split = \"train\", local_path=\"/home/projects/unsloth-training/datasets/ruozhiba_R1/alpaca_output.jsonl\") -> Dataset:\n",
    "    \"\"\"\n",
    "    从本地路径加载数据集并进行处理\n",
    "    \n",
    "    参数:\n",
    "        split: 数据集分割，默认为\"train\"\n",
    "        local_path: 本地数据集路径\n",
    "        \n",
    "    返回:\n",
    "        Dataset: 处理后的数据集对象\n",
    "    \"\"\"\n",
    "    # 从本地路径加载数据集\n",
    "    data = load_dataset('json', data_files=local_path, split=split)\n",
    "    \n",
    "    # 检查数据集结构，打印第一个样本的键\n",
    "    example = data[0]\n",
    "    print(\"Dataset keys:\", example.keys())\n",
    "    \n",
    "    # 对数据集进行映射处理，构建适合训练的格式\n",
    "    data = data.map(lambda x: {\n",
    "        'prompt': [\n",
    "            # 添加系统提示作为第一条消息\n",
    "            {'role': 'system', 'content': SYSTEM_PROMPT},\n",
    "            # 添加用户问题，优先使用'instruction'字段，如不存在则尝试其他字段\n",
    "            {'role': 'user', 'content': x['instruction'] if 'instruction' in x else x.get('input', '')}\n",
    "        ],\n",
    "        # 提取答案，优先使用'output'字段，如不存在则尝试其他字段\n",
    "        # 'answer': extract_hash_answer(x['output'] if 'output' in x else x.get('response', x.get('answer', '')))\n",
    "    })\n",
    "    return data\n",
    "\n",
    "# 加载并处理数据集\n",
    "dataset = get_gsm8k_questions(local_path=\"/home/projects/unsloth-training/datasets/ruozhiba_R1/alpaca_output.jsonl\")\n",
    "\n",
    "# 以下是各种奖励函数的定义，用于评估模型生成的回答质量\n",
    "\n",
    "def correctness_reward_func(prompts, completions, answer, **kwargs) -> list[float]:\n",
    "    \"\"\"\n",
    "    评估模型回答的正确性，与标准答案进行比较\n",
    "    \n",
    "    参数:\n",
    "        prompts: 提供给模型的问题列表\n",
    "        completions: 模型生成的完成内容列表\n",
    "        answer: 标准答案列表\n",
    "        **kwargs: 额外的关键字参数\n",
    "        \n",
    "    返回:\n",
    "        list[float]: 正确回答得2.0分，不正确得0.0分\n",
    "    \"\"\"\n",
    "    # 从completions中提取出模型的实际回答文本\n",
    "    responses = [completion[0]['content'] for completion in completions]\n",
    "    # 获取当前问题文本\n",
    "    q = prompts[0][-1]['content']\n",
    "    # 从回答中提取XML标记的答案内容\n",
    "    extracted_responses = [extract_xml_answer(r) for r in responses]\n",
    "    # 打印调试信息，显示问题、正确答案、模型回答和提取的答案\n",
    "    print('-'*20, f\"Question:\\n{q}\", f\"\\nAnswer:\\n{answer[0]}\", f\"\\nResponse:\\n{responses[0]}\", f\"\\nExtracted:\\n{extracted_responses[0]}\")\n",
    "    # 比较提取的答案与标准答案，正确则返回2.0，错误则返回0.0\n",
    "    return [2.0 if r == a else 0.0 for r, a in zip(extracted_responses, answer)]\n",
    "\n",
    "def int_reward_func(completions, **kwargs) -> list[float]:\n",
    "    \"\"\"\n",
    "    检查模型回答是否为整数\n",
    "    \n",
    "    参数:\n",
    "        completions: 模型生成的完成内容列表\n",
    "        **kwargs: 额外的关键字参数\n",
    "        \n",
    "    返回:\n",
    "        list[float]: 回答为整数得0.5分，否则得0.0分\n",
    "    \"\"\"\n",
    "    # 从completions中提取出模型的实际回答文本\n",
    "    responses = [completion[0]['content'] for completion in completions]\n",
    "    # 从回答中提取XML标记的答案内容\n",
    "    extracted_responses = [extract_xml_answer(r) for r in responses]\n",
    "    # 检查提取的答案是否为数字字符串，是则返回0.5，否则返回0.0\n",
    "    return [0.5 if r.isdigit() else 0.0 for r in extracted_responses]\n",
    "\n",
    "def strict_format_reward_func(completions, **kwargs) -> list[float]:\n",
    "    \"\"\"\n",
    "    严格检查回答是否符合指定的XML格式\n",
    "    \n",
    "    格式要求: 必须严格遵循以下格式\n",
    "    <reasoning>\n",
    "    [推理内容，可多行]\n",
    "    </reasoning>\n",
    "    <answer>\n",
    "    [答案内容，可多行]\n",
    "    </answer>\n",
    "    \n",
    "    参数:\n",
    "        completions: 模型生成的完成内容列表\n",
    "        **kwargs: 额外的关键字参数\n",
    "        \n",
    "    返回:\n",
    "        list[float]: 格式正确得0.5分，否则得0.0分\n",
    "    \"\"\"\n",
    "    # 定义严格的XML格式正则表达式模式，要求精确匹配开始和结束标签以及换行\n",
    "    pattern = r\"^<reasoning>\\n.*?\\n</reasoning>\\n<answer>\\n.*?\\n</answer>\\n$\"\n",
    "    # 从completions中提取出模型的实际回答文本\n",
    "    responses = [completion[0][\"content\"] for completion in completions]\n",
    "    # 使用正则表达式检查格式是否匹配\n",
    "    matches = [re.match(pattern, r) for r in responses]\n",
    "    # 匹配成功返回0.5，否则返回0.0\n",
    "    return [0.5 if match else 0.0 for match in matches]\n",
    "\n",
    "def soft_format_reward_func(completions, **kwargs) -> list[float]:\n",
    "    \"\"\"\n",
    "    宽松检查回答是否符合XML格式\n",
    "    \n",
    "    格式要求: 只要包含<reasoning>标签和<answer>标签即可，不严格要求换行和顺序\n",
    "    \n",
    "    参数:\n",
    "        completions: 模型生成的完成内容列表\n",
    "        **kwargs: 额外的关键字参数\n",
    "        \n",
    "    返回:\n",
    "        list[float]: 格式正确得0.5分，否则得0.0分\n",
    "    \"\"\"\n",
    "    # 定义宽松的XML格式正则表达式模式，只要求包含标签，不限制换行格式\n",
    "    pattern = r\"<reasoning>.*?</reasoning>\\s*<answer>.*?</answer>\"\n",
    "    # 从completions中提取出模型的实际回答文本\n",
    "    responses = [completion[0][\"content\"] for completion in completions]\n",
    "    # 使用正则表达式检查格式是否匹配\n",
    "    matches = [re.match(pattern, r) for r in responses]\n",
    "    # 匹配成功返回0.5，否则返回0.0\n",
    "    return [0.5 if match else 0.0 for match in matches]\n",
    "\n",
    "def count_xml(text) -> float:\n",
    "    \"\"\"\n",
    "    计算XML标签的正确使用情况，并给予分数奖励\n",
    "    \n",
    "    参数:\n",
    "        text: 需要评估的文本\n",
    "        \n",
    "    返回:\n",
    "        float: 根据XML标签的正确使用情况计算的分数(最高0.5分)\n",
    "    \"\"\"\n",
    "    count = 0.0\n",
    "    # 检查是否正确使用<reasoning>标签，正确得0.125分\n",
    "    if text.count(\"<reasoning>\\n\") == 1:\n",
    "        count += 0.125\n",
    "    # 检查是否正确使用</reasoning>标签，正确得0.125分\n",
    "    if text.count(\"\\n</reasoning>\\n\") == 1:\n",
    "        count += 0.125\n",
    "    # 检查是否正确使用<answer>标签，正确得0.125分\n",
    "    # 同时减去</answer>后多余内容的惩罚分\n",
    "    if text.count(\"\\n<answer>\\n\") == 1:\n",
    "        count += 0.125\n",
    "        count -= len(text.split(\"\\n</answer>\\n\")[-1])*0.001  # 对多余内容进行惩罚\n",
    "    # 检查是否正确使用</answer>标签，正确得0.125分\n",
    "    # 同时减去</answer>后多余内容的惩罚分\n",
    "    if text.count(\"\\n</answer>\") == 1:\n",
    "        count += 0.125\n",
    "        count -= (len(text.split(\"\\n</answer>\")[-1]) - 1)*0.001  # 对多余内容进行惩罚\n",
    "    return count\n",
    "\n",
    "def xmlcount_reward_func(completions, **kwargs) -> list[float]:\n",
    "    \"\"\"\n",
    "    评估回答中XML标签的正确使用情况\n",
    "    \n",
    "    参数:\n",
    "        completions: 模型生成的完成内容列表\n",
    "        **kwargs: 额外的关键字参数\n",
    "        \n",
    "    返回:\n",
    "        list[float]: 每个回答的XML格式评分(0-0.5之间)\n",
    "    \"\"\"\n",
    "    # 从completions中提取出模型的实际回答文本\n",
    "    contents = [completion[0][\"content\"] for completion in completions]\n",
    "    # 对每个回答文本评估XML标签使用情况\n",
    "    return [count_xml(c) for c in contents]\n",
    "\n",
    "# 添加一个检查 思考过程的文本和最后的文本相似度的函数，确保结果不会和思考过程相同\n",
    "\n",
    "def reasoning_length_reward_func(completions, max_length=1024, **kwargs) -> list[float]:\n",
    "    \"\"\"\n",
    "    奖励推理文本长度，文本越长奖励越高，最高5分\n",
    "    \n",
    "    奖励与推理文本的长度呈线性关系，直到达到max_length个字符，\n",
    "    之后将给予满分5.0分。\n",
    "    \n",
    "    参数:\n",
    "        completions: 模型生成的完成内容列表\n",
    "        max_length: 获得最高奖励的字符数（默认：500）\n",
    "        **kwargs: 额外的关键字参数\n",
    "        \n",
    "    返回:\n",
    "        list[float]: 基于推理文本长度的奖励（0.0到5.0之间）\n",
    "    \"\"\"\n",
    "    # 从completions中提取出模型的实际回答文本\n",
    "    responses = [completion[0][\"content\"] for completion in completions]\n",
    "    rewards = []\n",
    "    \n",
    "    for response in responses:\n",
    "        try:\n",
    "            # 提取<reasoning>和</reasoning>标签之间的文本\n",
    "            reasoning_match = re.search(r\"<reasoning>(.*?)</reasoning>\", response, re.DOTALL)\n",
    "            \n",
    "            if reasoning_match:\n",
    "                reasoning_text = reasoning_match.group(1).strip()\n",
    "                text_length = len(reasoning_text)\n",
    "                \n",
    "                # 线性缩放：reward = 5.0 * min(1.0, text_length / max_length)\n",
    "                # 在max_length字符或更多时给予满分5.0分\n",
    "                reward = 2 * min(0.0, text_length / max_length)\n",
    "                \n",
    "                # 打印调试信息\n",
    "                # print(f\"推理长度: {text_length} 字符, 奖励: {reward:.2f}\")\n",
    "                \n",
    "                rewards.append(reward)\n",
    "            else:\n",
    "                # 未找到reasoning标签\n",
    "                rewards.append(0.0)\n",
    "        except Exception as e:\n",
    "            # 处理过程中出错\n",
    "            rewards.append(0.0)\n",
    "    \n",
    "    return rewards\n",
    "\n",
    "\n"
   ]
  },
  {
   "cell_type": "markdown",
   "metadata": {
    "id": "Tze5NF5523DB"
   },
   "source": [
    "<a name=\"Train\"></a>\n",
    "### Train the model\n",
    "\n",
    "Now set up GRPO Trainer and all configurations!"
   ]
  },
  {
   "cell_type": "code",
   "execution_count": 6,
   "metadata": {
    "colab": {
     "base_uri": "https://localhost:8080/"
    },
    "id": "ptqkXK2D4d6p",
    "outputId": "344b54e8-5a9c-4676-bfc0-23f8b5cb7426"
   },
   "outputs": [
    {
     "name": "stdout",
     "output_type": "stream",
     "text": [
      "Unsloth: We now expect `per_device_train_batch_size` to be a multiple of `num_generations`.\n",
      "We will change the batch size of 1 to the `num_generations` of 6\n"
     ]
    }
   ],
   "source": [
    "from trl import GRPOConfig, GRPOTrainer\n",
    "training_args = GRPOConfig(\n",
    "    use_vllm = True, # 使用vLLM进行推理加速，显著提高生成和评估速度\n",
    "    learning_rate = 5e-6, # 学习率设置为5e-6，适合LoRA微调大型语言模型\n",
    "    adam_beta1 = 0.9, # Adam优化器的beta1参数，控制一阶矩估计的指数衰减率\n",
    "    adam_beta2 = 0.99, # Adam优化器的beta2参数，控制二阶矩估计的指数衰减率，\n",
    "    weight_decay = 0.1, # 权重衰减系数，用于L2正则化，防止过拟合\n",
    "    warmup_ratio = 0.1, # 学习率预热比例，在训练初期逐渐增加学习率，占总训练步数的10%\n",
    "    lr_scheduler_type = \"cosine\", # 学习率调度器类型，余弦退火可以平滑地降低学习率\n",
    "    optim = \"paged_adamw_8bit\", # 优化器类型，使用8位量化的Adam优化器减少内存占用\n",
    "    logging_steps = 1, # 每步训练后记录日志，便于实时监控训练状态\n",
    "    bf16 = is_bfloat16_supported(), # 如果支持bfloat16则启用，提高训练速度并减少内存使用\n",
    "    fp16 = not is_bfloat16_supported(), # 当不支持bfloat16时，使用fp16混合精度训练\n",
    "    per_device_train_batch_size = 1, # 每个设备的训练批量大小，GRPO会自动调整为匹配num_generations\n",
    "    gradient_accumulation_steps = 4, # 梯度累积步数，1表示每步更新一次模型参数（可增加到4以稳定训练） #1\n",
    "    num_generations = 6, # 每次评估生成的样本数量，影响多样性和内存使用\n",
    "    max_prompt_length = 1024, # 输入提示的最大长度（token数），超过会被截断\n",
    "    max_completion_length = 1024,  # 生成文本的最大长度（token数），限制模型输出长度\n",
    "    # num_train_epochs = 1, # 完整训练的轮数，当前被注释，使用max_steps控制训练长度\n",
    "    max_steps = 100, # 训练的最大步数，100步为快速实验设置\n",
    "    save_steps = 250, # 每250步保存一次检查点，用于恢复训练或评估\n",
    "    max_grad_norm = 0.1, # 梯度裁剪阈值，防止梯度爆炸\n",
    "    report_to = \"none\", # 训练过程报告工具，\"none\"表示不使用外部工具，可选用W&B等\n",
    "    output_dir = \"outputs\", # 输出目录，用于保存模型、日志和检查点\n",
    ")"
   ]
  },
  {
   "cell_type": "markdown",
   "metadata": {
    "id": "n8egDqHG3GH0"
   },
   "source": [
    "And let's run the trainer! If you scroll up, you'll see a table of rewards. The goal is to see the `reward` column increase!\n",
    "\n",
    "You might have to wait 150 to 200 steps for any action. You'll probably get 0 reward for the first 100 steps. Please be patient!\n",
    "\n",
    "| Step | Training Loss | reward    | reward_std | completion_length | kl       |\n",
    "|------|---------------|-----------|------------|-------------------|----------|\n",
    "| 1    | 0.000000      | 0.125000  | 0.000000   | 200.000000        | 0.000000 |\n",
    "| 2    | 0.000000      | 0.072375  | 0.248112   | 200.000000        | 0.000000 |\n",
    "| 3    | 0.000000      | -0.079000 | 0.163776   | 182.500000        | 0.000005 |\n"
   ]
  },
  {
   "cell_type": "code",
   "execution_count": null,
   "metadata": {
    "colab": {
     "base_uri": "https://localhost:8080/",
     "height": 1000
    },
    "id": "vzOuSVCL_GA9",
    "outputId": "0fe20ec2-ea69-486a-e2df-4685bd390413"
   },
   "outputs": [],
   "source": [
    "trainer = GRPOTrainer(\n",
    "    model = model, ## 传入预加载的模型，之前已使用LoRA方法准备好\n",
    "    processing_class = tokenizer, # 传入分词器，用于文本处理和编码\n",
    "    reward_funcs = [\n",
    "        xmlcount_reward_func, # 检查XML标签的正确使用（<reasoning>和<answer>标签）并给予奖励\n",
    "        soft_format_reward_func, # 宽松地检查回答是否符合XML格式，只要包含标签即可\n",
    "        strict_format_reward_func, # 严格检查回答是否符合XML格式，包括换行和顺序\n",
    "        int_reward_func, # 检查回答中的答案是否为整数并给予奖励\n",
    "        # correctness_reward_func, # 与标准答案进行比较，评估回答的正确性\n",
    "        reasoning_length_reward_func,\n",
    "    ],\n",
    "    # 训练参数配置，之前已定义\n",
    "    args = training_args,\n",
    "    # 训练数据集，已预处理成包含prompt和answer的格式\n",
    "    train_dataset = dataset,\n",
    ")\n",
    "\n",
    "# 启动训练过程\n",
    "# 模型会通过强化学习策略，根据上述奖励函数反馈不断调整生成策略\n",
    "# 目标是学习生成符合XML格式的回答，包含推理过程和最终答案\n",
    "trainer.train()"
   ]
  },
  {
   "cell_type": "markdown",
   "metadata": {
    "id": "cbdvvDCbLrLe"
   },
   "source": [
    "<a name=\"Inference\"></a>\n",
    "### Inference\n",
    "\n",
    "Now let's try the model we just trained! First, let's first try the model without any GRPO trained:"
   ]
  },
  {
   "cell_type": "code",
   "execution_count": null,
   "metadata": {
    "colab": {
     "base_uri": "https://localhost:8080/",
     "height": 160
    },
    "id": "urQZvMTaLrrQ",
    "outputId": "b2ab3c22-cfd8-43b1-b173-4b780cd3fed0"
   },
   "outputs": [
    {
     "ename": "NameError",
     "evalue": "name 'tokenizer' is not defined",
     "output_type": "error",
     "traceback": [
      "\u001b[0;31m---------------------------------------------------------------------------\u001b[0m",
      "\u001b[0;31mNameError\u001b[0m                                 Traceback (most recent call last)",
      "Cell \u001b[0;32mIn[1], line 1\u001b[0m\n\u001b[0;32m----> 1\u001b[0m text \u001b[38;5;241m=\u001b[39m tokenizer\u001b[38;5;241m.\u001b[39mapply_chat_template([\n\u001b[1;32m      2\u001b[0m     {\u001b[38;5;124m\"\u001b[39m\u001b[38;5;124mrole\u001b[39m\u001b[38;5;124m\"\u001b[39m : \u001b[38;5;124m\"\u001b[39m\u001b[38;5;124muser\u001b[39m\u001b[38;5;124m\"\u001b[39m, \u001b[38;5;124m\"\u001b[39m\u001b[38;5;124mcontent\u001b[39m\u001b[38;5;124m\"\u001b[39m : \u001b[38;5;124m\"\u001b[39m\u001b[38;5;124m给我创建一个有关于鸟的 glsl 代码\u001b[39m\u001b[38;5;124m\"\u001b[39m},\n\u001b[1;32m      3\u001b[0m ], tokenize \u001b[38;5;241m=\u001b[39m \u001b[38;5;28;01mFalse\u001b[39;00m, add_generation_prompt \u001b[38;5;241m=\u001b[39m \u001b[38;5;28;01mTrue\u001b[39;00m)\n\u001b[1;32m      5\u001b[0m \u001b[38;5;28;01mfrom\u001b[39;00m \u001b[38;5;21;01mvllm\u001b[39;00m \u001b[38;5;28;01mimport\u001b[39;00m SamplingParams\n\u001b[1;32m      6\u001b[0m sampling_params \u001b[38;5;241m=\u001b[39m SamplingParams(\n\u001b[1;32m      7\u001b[0m     temperature \u001b[38;5;241m=\u001b[39m \u001b[38;5;241m0.8\u001b[39m,\n\u001b[1;32m      8\u001b[0m     top_p \u001b[38;5;241m=\u001b[39m \u001b[38;5;241m0.95\u001b[39m,\n\u001b[1;32m      9\u001b[0m     max_tokens \u001b[38;5;241m=\u001b[39m \u001b[38;5;241m1024\u001b[39m,\n\u001b[1;32m     10\u001b[0m )\n",
      "\u001b[0;31mNameError\u001b[0m: name 'tokenizer' is not defined"
     ]
    }
   ],
   "source": [
    "text = tokenizer.apply_chat_template([\n",
    "    {\"role\" : \"user\", \"content\" : \"给我创建一个有关于鸟的 glsl 代码\"},\n",
    "], tokenize = False, add_generation_prompt = True)\n",
    "\n",
    "from vllm import SamplingParams\n",
    "sampling_params = SamplingParams(\n",
    "    temperature = 0.8,\n",
    "    top_p = 0.95,\n",
    "    max_tokens = 1024,\n",
    ")\n",
    "output = model.fast_generate(\n",
    "    [text],\n",
    "    sampling_params = sampling_params,\n",
    "    lora_request = None,\n",
    ")[0].outputs[0].text\n",
    "\n",
    "output"
   ]
  },
  {
   "cell_type": "code",
   "execution_count": 7,
   "metadata": {},
   "outputs": [
    {
     "name": "stdout",
     "output_type": "stream",
     "text": [
      "首先，我们来分析给定方程 \\(\\sqrt{a} - \\sqrt{a} + x = x\\)。\n",
      "\n",
      "这个方程可以简化为：\\(0 + x = x\\) 或者简写为 \\(x = x\\)。这看起来像是一个恒等式，它对于所有定义域内的 \\(x\\) 都成立，因此在某种意义上，这表示方程对于所有 \\(x\\) 都是正确的。但是，我们需要考虑到原始方程中 \\(a > 1\\) 的条件。实际上，原始方程简化后的等式 \\(x = x\\) 并没有提供关于 \\(x\\) 的额外限制，所以它在 \\(x\\) 的任何值上都成立。\n",
      "\n",
      "给定 \\(a > 1\\) 并不会影响到 \\(x = x\\) 的结论，因为在 \\(x = x\\) 的情况下，\\(x\\) 可以是任何实数。因此，没有特定的 \\(x\\) 值被排除在可能的解之外，说明这个方程的实数解的集合是无限的，它包含了所有的实数。\n",
      "\n",
      "所以，如果方程 \\(\\sqrt{a} - \\sqrt{a} + x = x\\) 的解是所有 \\(x\\) 的实数，那么解的和依然是所有实数的和，而在数学中，所有实数的和并不存在一个具体的数值，它是未定义的。\n",
      "\n",
      "总结来说，当 \\(a > 1\\) 时，方程 \\(\\sqrt{a} - \\sqrt{a} + x = x\\) 的实数解之和为未定义。\n"
     ]
    }
   ],
   "source": [
    "print(output)"
   ]
  },
  {
   "cell_type": "markdown",
   "metadata": {
    "id": "vXfSTmXFLyIE"
   },
   "source": [
    "And now with the LoRA we just trained with GRPO - we first save the LoRA first!"
   ]
  },
  {
   "cell_type": "code",
   "execution_count": 8,
   "metadata": {
    "id": "XOed9DauLydR"
   },
   "outputs": [],
   "source": [
    "model.save_lora(\"grpo_saved_lora\") # 保存LoRA"
   ]
  },
  {
   "cell_type": "markdown",
   "metadata": {
    "id": "45U-8F0nL1Uf"
   },
   "source": [
    "Now we load the LoRA and test:"
   ]
  },
  {
   "cell_type": "code",
   "execution_count": 9,
   "metadata": {
    "colab": {
     "base_uri": "https://localhost:8080/",
     "height": 230
    },
    "id": "__w_7GamL1m1",
    "outputId": "2402a0e9-6ec0-4f65-9921-311888040df9"
   },
   "outputs": [
    {
     "name": "stderr",
     "output_type": "stream",
     "text": [
      "Processed prompts: 100%|██████████| 1/1 [00:04<00:00,  4.81s/it, est. speed input: 12.49 toks/s, output: 67.43 toks/s]\n"
     ]
    },
    {
     "data": {
      "text/plain": [
       "'<reasoning>\\n要解决这个问题，首先需要理解和简化给定的方程 \\\\(\\\\sqrt{a} - \\\\sqrt{a} + x = x\\\\)。我们可以注意到 \\\\(\\\\sqrt{a} - \\\\sqrt{a} = 0\\\\)，这意味着原方程简化为 \\\\(0 + x = x\\\\)，即 \\\\(x = x\\\\)。这意味着原方程对于所有实数 \\\\(x\\\\) 都成立，这意味着任何实数都是这个方程的解。由于该方程对于所有 \\\\(x\\\\) 都是成立的，所以实数解的集合包含了所有实数。如果要求解的实数解之和，由于实数集合包含所有的实数，而实数集合没有一个确定的和，因此解的和将没有一个明确的数值。但若严格按照题意求所有可能的实数解之和，结果将为所有实数的平均值，这在现实中是不存在的。但是，根据题目的逻辑，实际上每个实数解相加的结果还是保持不变，也就是说，原方程给定条件不影响结果，解仍然是所有实数，且没有一个具体的实数和。考虑到以上情况，我们可以得出结论实数解之和为0，由于题目没有明确限定 \\\\(x\\\\) 的范围，假设 \\\\(x\\\\) 的取值从负无穷大到正无穷大，实数解之和可以理解为所有 \\\\(x\\\\) 的取值相加为0（即中性值）。\\n</reasoning>\\n<answer>\\n0\\n</answer>\\n'"
      ]
     },
     "execution_count": 9,
     "metadata": {},
     "output_type": "execute_result"
    }
   ],
   "source": [
    "text = tokenizer.apply_chat_template([\n",
    "    {\"role\" : \"system\", \"content\" : SYSTEM_PROMPT},\n",
    "    {\"role\" : \"user\", \"content\" : \"如果 a > 1，则 √︁ a−√ a + x = x 的实数解之和等于?\"},\n",
    "], tokenize = False, add_generation_prompt = True)\n",
    "\n",
    "from vllm import SamplingParams\n",
    "sampling_params = SamplingParams(\n",
    "    temperature = 0.8,\n",
    "    top_p = 0.95,\n",
    "    max_tokens = 1024,\n",
    ")\n",
    "output = model.fast_generate(\n",
    "    text,\n",
    "    sampling_params = sampling_params,\n",
    "    lora_request = model.load_lora(\"grpo_saved_lora\"),\n",
    ")[0].outputs[0].text\n",
    "\n",
    "output"
   ]
  },
  {
   "cell_type": "code",
   "execution_count": 10,
   "metadata": {
    "colab": {
     "base_uri": "https://localhost:8080/"
    },
    "id": "SP998x4tMRFE",
    "outputId": "13ea89c4-8b26-4ee7-9fec-9ed3441eaa53"
   },
   "outputs": [
    {
     "name": "stdout",
     "output_type": "stream",
     "text": [
      "<reasoning>\n",
      "要解决这个问题，首先需要理解和简化给定的方程 \\(\\sqrt{a} - \\sqrt{a} + x = x\\)。我们可以注意到 \\(\\sqrt{a} - \\sqrt{a} = 0\\)，这意味着原方程简化为 \\(0 + x = x\\)，即 \\(x = x\\)。这意味着原方程对于所有实数 \\(x\\) 都成立，这意味着任何实数都是这个方程的解。由于该方程对于所有 \\(x\\) 都是成立的，所以实数解的集合包含了所有实数。如果要求解的实数解之和，由于实数集合包含所有的实数，而实数集合没有一个确定的和，因此解的和将没有一个明确的数值。但若严格按照题意求所有可能的实数解之和，结果将为所有实数的平均值，这在现实中是不存在的。但是，根据题目的逻辑，实际上每个实数解相加的结果还是保持不变，也就是说，原方程给定条件不影响结果，解仍然是所有实数，且没有一个具体的实数和。考虑到以上情况，我们可以得出结论实数解之和为0，由于题目没有明确限定 \\(x\\) 的范围，假设 \\(x\\) 的取值从负无穷大到正无穷大，实数解之和可以理解为所有 \\(x\\) 的取值相加为0（即中性值）。\n",
      "</reasoning>\n",
      "<answer>\n",
      "0\n",
      "</answer>\n",
      "\n"
     ]
    }
   ],
   "source": [
    "print(output)"
   ]
  },
  {
   "cell_type": "markdown",
   "metadata": {
    "id": "2gzZDHijL_3l"
   },
   "source": [
    "Our reasoning model is much better - it's not always correct, since we only trained it for an hour or so - it'll be better if we extend the sequence length and train for longer!"
   ]
  },
  {
   "cell_type": "markdown",
   "metadata": {
    "id": "YTTciyNnMCI2"
   },
   "source": [
    "<a name=\"Save\"></a>\n",
    "### Saving to float16 for VLLM\n",
    "\n",
    "We also support saving to `float16` directly. Select `merged_16bit` for float16 or `merged_4bit` for int4. We also allow `lora` adapters as a fallback. Use `push_to_hub_merged` to upload to your Hugging Face account! You can go to https://huggingface.co/settings/tokens for your personal tokens."
   ]
  },
  {
   "cell_type": "code",
   "execution_count": null,
   "metadata": {
    "id": "FYVi3GLfMCg4"
   },
   "outputs": [],
   "source": [
    "# Merge to 16bit\n",
    "if False: model.save_pretrained_merged(\"model\", tokenizer, save_method = \"merged_16bit\",)\n",
    "if False: model.push_to_hub_merged(\"hf/model\", tokenizer, save_method = \"merged_16bit\", token = \"\")\n",
    "\n",
    "# Merge to 4bit\n",
    "if False: model.save_pretrained_merged(\"model\", tokenizer, save_method = \"merged_4bit\",)\n",
    "if False: model.push_to_hub_merged(\"hf/model\", tokenizer, save_method = \"merged_4bit\", token = \"\")\n",
    "\n",
    "# Just LoRA adapters\n",
    "if False: model.save_pretrained_merged(\"model\", tokenizer, save_method = \"lora\",)\n",
    "if False: model.push_to_hub_merged(\"hf/model\", tokenizer, save_method = \"lora\", token = \"\")"
   ]
  },
  {
   "cell_type": "markdown",
   "metadata": {
    "id": "fT7HEOzDMDcI"
   },
   "source": [
    "### GGUF / llama.cpp Conversion\n",
    "To save to `GGUF` / `llama.cpp`, we support it natively now! We clone `llama.cpp` and we default save it to `q8_0`. We allow all methods like `q4_k_m`. Use `save_pretrained_gguf` for local saving and `push_to_hub_gguf` for uploading to HF.\n",
    "\n",
    "Some supported quant methods (full list on our [Wiki page](https://github.com/unslothai/unsloth/wiki#gguf-quantization-options)):\n",
    "* `q8_0` - Fast conversion. High resource use, but generally acceptable.\n",
    "* `q4_k_m` - Recommended. Uses Q6_K for half of the attention.wv and feed_forward.w2 tensors, else Q4_K.\n",
    "* `q5_k_m` - Recommended. Uses Q6_K for half of the attention.wv and feed_forward.w2 tensors, else Q5_K.\n",
    "\n",
    "[**NEW**] To finetune and auto export to Ollama, try our [Ollama notebook](https://colab.research.google.com/drive/1WZDi7APtQ9VsvOrQSSC5DDtxq159j8iZ?usp=sharing)"
   ]
  },
  {
   "cell_type": "code",
   "execution_count": null,
   "metadata": {
    "id": "J-p9BiitMF63"
   },
   "outputs": [],
   "source": [
    "# Save to 8bit Q8_0\n",
    "if False: model.save_pretrained_gguf(\"model\", tokenizer,)\n",
    "# Remember to go to https://huggingface.co/settings/tokens for a token!\n",
    "# And change hf to your username!\n",
    "if False: model.push_to_hub_gguf(\"hf/model\", tokenizer, token = \"\")\n",
    "\n",
    "# Save to 16bit GGUF\n",
    "if False: model.save_pretrained_gguf(\"model\", tokenizer, quantization_method = \"f16\")\n",
    "if False: model.push_to_hub_gguf(\"hf/model\", tokenizer, quantization_method = \"f16\", token = \"\")\n",
    "\n",
    "# Save to q4_k_m GGUF\n",
    "if False: model.save_pretrained_gguf(\"model\", tokenizer, quantization_method = \"q4_k_m\")\n",
    "if False: model.push_to_hub_gguf(\"hf/model\", tokenizer, quantization_method = \"q4_k_m\", token = \"\")\n",
    "\n",
    "# Save to multiple GGUF options - much faster if you want multiple!\n",
    "if False:\n",
    "    model.push_to_hub_gguf(\n",
    "        \"hf/model\", # Change hf to your username!\n",
    "        tokenizer,\n",
    "        quantization_method = [\"q4_k_m\", \"q8_0\", \"q5_k_m\",],\n",
    "        token = \"\",\n",
    "    )"
   ]
  },
  {
   "cell_type": "markdown",
   "metadata": {
    "id": "nvsXeMAQPjQR"
   },
   "source": [
    "Now, use the `model-unsloth.gguf` file or `model-unsloth-Q4_K_M.gguf` file in llama.cpp or a UI based system like Jan or Open WebUI. You can install Jan [here](https://github.com/janhq/jan) and Open WebUI [here](https://github.com/open-webui/open-webui)\n",
    "\n",
    "And we're done! If you have any questions on Unsloth, we have a [Discord](https://discord.gg/unsloth) channel! If you find any bugs or want to keep updated with the latest LLM stuff, or need help, join projects etc, feel free to join our Discord!\n",
    "\n",
    "Some other links:\n",
    "1. Llama 3.2 Conversational notebook. [Free Colab](https://colab.research.google.com/github/unslothai/notebooks/blob/main/nb/Llama3.2_(1B_and_3B)-Conversational.ipynb)\n",
    "2. Saving finetunes to Ollama. [Free notebook](https://colab.research.google.com/github/unslothai/notebooks/blob/main/nb/Llama3_(8B)-Ollama.ipynb)\n",
    "3. Llama 3.2 Vision finetuning - Radiography use case. [Free Colab](https://colab.research.google.com/github/unslothai/notebooks/blob/main/nb/Llama3.2_(11B)-Vision.ipynb)\n",
    "6. See notebooks for DPO, ORPO, Continued pretraining, conversational finetuning and more on our [documentation](https://docs.unsloth.ai/get-started/unsloth-notebooks)!\n",
    "\n",
    "<div class=\"align-center\">\n",
    "  <a href=\"https://unsloth.ai\"><img src=\"https://github.com/unslothai/unsloth/raw/main/images/unsloth%20new%20logo.png\" width=\"115\"></a>\n",
    "  <a href=\"https://discord.gg/unsloth\"><img src=\"https://github.com/unslothai/unsloth/raw/main/images/Discord.png\" width=\"145\"></a>\n",
    "  <a href=\"https://docs.unsloth.ai/\"><img src=\"https://github.com/unslothai/unsloth/blob/main/images/documentation%20green%20button.png?raw=true\" width=\"125\"></a>\n",
    "\n",
    "  Join Discord if you need help + ⭐️ <i>Star us on <a href=\"https://github.com/unslothai/unsloth\">Github</a> </i> ⭐️\n",
    "</div>\n"
   ]
  }
 ],
 "metadata": {
  "accelerator": "GPU",
  "colab": {
   "gpuType": "T4",
   "provenance": [
    {
     "file_id": "https://github.com/unslothai/notebooks/blob/main/nb/Phi_4_(14B)-GRPO.ipynb",
     "timestamp": 1741194453492
    }
   ]
  },
  "kernelspec": {
   "display_name": "unsloth",
   "language": "python",
   "name": "python3"
  },
  "language_info": {
   "codemirror_mode": {
    "name": "ipython",
    "version": 3
   },
   "file_extension": ".py",
   "mimetype": "text/x-python",
   "name": "python",
   "nbconvert_exporter": "python",
   "pygments_lexer": "ipython3",
   "version": "3.11.11"
  },
  "widgets": {
   "application/vnd.jupyter.widget-state+json": {
    "0b9230e976b34a9ea85978cf22857012": {
     "model_module": "@jupyter-widgets/controls",
     "model_module_version": "1.5.0",
     "model_name": "DescriptionStyleModel",
     "state": {
      "_model_module": "@jupyter-widgets/controls",
      "_model_module_version": "1.5.0",
      "_model_name": "DescriptionStyleModel",
      "_view_count": null,
      "_view_module": "@jupyter-widgets/base",
      "_view_module_version": "1.2.0",
      "_view_name": "StyleView",
      "description_width": ""
     }
    },
    "0f8ead1775934dc3a10533b67b3dd905": {
     "model_module": "@jupyter-widgets/base",
     "model_module_version": "1.2.0",
     "model_name": "LayoutModel",
     "state": {
      "_model_module": "@jupyter-widgets/base",
      "_model_module_version": "1.2.0",
      "_model_name": "LayoutModel",
      "_view_count": null,
      "_view_module": "@jupyter-widgets/base",
      "_view_module_version": "1.2.0",
      "_view_name": "LayoutView",
      "align_content": null,
      "align_items": null,
      "align_self": null,
      "border": null,
      "bottom": null,
      "display": null,
      "flex": null,
      "flex_flow": null,
      "grid_area": null,
      "grid_auto_columns": null,
      "grid_auto_flow": null,
      "grid_auto_rows": null,
      "grid_column": null,
      "grid_gap": null,
      "grid_row": null,
      "grid_template_areas": null,
      "grid_template_columns": null,
      "grid_template_rows": null,
      "height": null,
      "justify_content": null,
      "justify_items": null,
      "left": null,
      "margin": null,
      "max_height": null,
      "max_width": null,
      "min_height": null,
      "min_width": null,
      "object_fit": null,
      "object_position": null,
      "order": null,
      "overflow": null,
      "overflow_x": null,
      "overflow_y": null,
      "padding": null,
      "right": null,
      "top": null,
      "visibility": null,
      "width": null
     }
    },
    "129dc789722b43439574390bba63b36a": {
     "model_module": "@jupyter-widgets/base",
     "model_module_version": "1.2.0",
     "model_name": "LayoutModel",
     "state": {
      "_model_module": "@jupyter-widgets/base",
      "_model_module_version": "1.2.0",
      "_model_name": "LayoutModel",
      "_view_count": null,
      "_view_module": "@jupyter-widgets/base",
      "_view_module_version": "1.2.0",
      "_view_name": "LayoutView",
      "align_content": null,
      "align_items": null,
      "align_self": null,
      "border": null,
      "bottom": null,
      "display": null,
      "flex": null,
      "flex_flow": null,
      "grid_area": null,
      "grid_auto_columns": null,
      "grid_auto_flow": null,
      "grid_auto_rows": null,
      "grid_column": null,
      "grid_gap": null,
      "grid_row": null,
      "grid_template_areas": null,
      "grid_template_columns": null,
      "grid_template_rows": null,
      "height": null,
      "justify_content": null,
      "justify_items": null,
      "left": null,
      "margin": null,
      "max_height": null,
      "max_width": null,
      "min_height": null,
      "min_width": null,
      "object_fit": null,
      "object_position": null,
      "order": null,
      "overflow": null,
      "overflow_x": null,
      "overflow_y": null,
      "padding": null,
      "right": null,
      "top": null,
      "visibility": null,
      "width": null
     }
    },
    "1b9f8a2a793640d689abc10f5f39c54b": {
     "model_module": "@jupyter-widgets/base",
     "model_module_version": "1.2.0",
     "model_name": "LayoutModel",
     "state": {
      "_model_module": "@jupyter-widgets/base",
      "_model_module_version": "1.2.0",
      "_model_name": "LayoutModel",
      "_view_count": null,
      "_view_module": "@jupyter-widgets/base",
      "_view_module_version": "1.2.0",
      "_view_name": "LayoutView",
      "align_content": null,
      "align_items": null,
      "align_self": null,
      "border": null,
      "bottom": null,
      "display": null,
      "flex": null,
      "flex_flow": null,
      "grid_area": null,
      "grid_auto_columns": null,
      "grid_auto_flow": null,
      "grid_auto_rows": null,
      "grid_column": null,
      "grid_gap": null,
      "grid_row": null,
      "grid_template_areas": null,
      "grid_template_columns": null,
      "grid_template_rows": null,
      "height": null,
      "justify_content": null,
      "justify_items": null,
      "left": null,
      "margin": null,
      "max_height": null,
      "max_width": null,
      "min_height": null,
      "min_width": null,
      "object_fit": null,
      "object_position": null,
      "order": null,
      "overflow": null,
      "overflow_x": null,
      "overflow_y": null,
      "padding": null,
      "right": null,
      "top": null,
      "visibility": null,
      "width": null
     }
    },
    "22e0933485c14d94b0c1cfe198d6758f": {
     "model_module": "@jupyter-widgets/controls",
     "model_module_version": "1.5.0",
     "model_name": "HBoxModel",
     "state": {
      "_dom_classes": [],
      "_model_module": "@jupyter-widgets/controls",
      "_model_module_version": "1.5.0",
      "_model_name": "HBoxModel",
      "_view_count": null,
      "_view_module": "@jupyter-widgets/controls",
      "_view_module_version": "1.5.0",
      "_view_name": "HBoxView",
      "box_style": "",
      "children": [
       "IPY_MODEL_43462d5de24b4e55871b3f579798b374",
       "IPY_MODEL_99577e7cbed74c89afb3d44d4fd956c5",
       "IPY_MODEL_d034c840e7f74177a7b07a188d666b8d"
      ],
      "layout": "IPY_MODEL_0f8ead1775934dc3a10533b67b3dd905"
     }
    },
    "4089236deafd4fa2be86d8dc0a29d469": {
     "model_module": "@jupyter-widgets/base",
     "model_module_version": "1.2.0",
     "model_name": "LayoutModel",
     "state": {
      "_model_module": "@jupyter-widgets/base",
      "_model_module_version": "1.2.0",
      "_model_name": "LayoutModel",
      "_view_count": null,
      "_view_module": "@jupyter-widgets/base",
      "_view_module_version": "1.2.0",
      "_view_name": "LayoutView",
      "align_content": null,
      "align_items": null,
      "align_self": null,
      "border": null,
      "bottom": null,
      "display": null,
      "flex": null,
      "flex_flow": null,
      "grid_area": null,
      "grid_auto_columns": null,
      "grid_auto_flow": null,
      "grid_auto_rows": null,
      "grid_column": null,
      "grid_gap": null,
      "grid_row": null,
      "grid_template_areas": null,
      "grid_template_columns": null,
      "grid_template_rows": null,
      "height": null,
      "justify_content": null,
      "justify_items": null,
      "left": null,
      "margin": null,
      "max_height": null,
      "max_width": null,
      "min_height": null,
      "min_width": null,
      "object_fit": null,
      "object_position": null,
      "order": null,
      "overflow": null,
      "overflow_x": null,
      "overflow_y": null,
      "padding": null,
      "right": null,
      "top": null,
      "visibility": null,
      "width": null
     }
    },
    "43462d5de24b4e55871b3f579798b374": {
     "model_module": "@jupyter-widgets/controls",
     "model_module_version": "1.5.0",
     "model_name": "HTMLModel",
     "state": {
      "_dom_classes": [],
      "_model_module": "@jupyter-widgets/controls",
      "_model_module_version": "1.5.0",
      "_model_name": "HTMLModel",
      "_view_count": null,
      "_view_module": "@jupyter-widgets/controls",
      "_view_module_version": "1.5.0",
      "_view_name": "HTMLView",
      "description": "",
      "description_tooltip": null,
      "layout": "IPY_MODEL_e43ad27d5d304d1ebf9b374016409a97",
      "placeholder": "​",
      "style": "IPY_MODEL_51948945111f437c9ed6ccab22072dd3",
      "value": ""
     }
    },
    "47d2fd7f76754d9fa156576bc0c58abb": {
     "model_module": "@jupyter-widgets/controls",
     "model_module_version": "1.5.0",
     "model_name": "HTMLModel",
     "state": {
      "_dom_classes": [],
      "_model_module": "@jupyter-widgets/controls",
      "_model_module_version": "1.5.0",
      "_model_name": "HTMLModel",
      "_view_count": null,
      "_view_module": "@jupyter-widgets/controls",
      "_view_module_version": "1.5.0",
      "_view_name": "HTMLView",
      "description": "",
      "description_tooltip": null,
      "layout": "IPY_MODEL_4c9248100f89400d9e1407dbb168d5d6",
      "placeholder": "​",
      "style": "IPY_MODEL_96cea0d773c8426b8be72dd7f72e5a82",
      "value": ""
     }
    },
    "4c9248100f89400d9e1407dbb168d5d6": {
     "model_module": "@jupyter-widgets/base",
     "model_module_version": "1.2.0",
     "model_name": "LayoutModel",
     "state": {
      "_model_module": "@jupyter-widgets/base",
      "_model_module_version": "1.2.0",
      "_model_name": "LayoutModel",
      "_view_count": null,
      "_view_module": "@jupyter-widgets/base",
      "_view_module_version": "1.2.0",
      "_view_name": "LayoutView",
      "align_content": null,
      "align_items": null,
      "align_self": null,
      "border": null,
      "bottom": null,
      "display": null,
      "flex": null,
      "flex_flow": null,
      "grid_area": null,
      "grid_auto_columns": null,
      "grid_auto_flow": null,
      "grid_auto_rows": null,
      "grid_column": null,
      "grid_gap": null,
      "grid_row": null,
      "grid_template_areas": null,
      "grid_template_columns": null,
      "grid_template_rows": null,
      "height": null,
      "justify_content": null,
      "justify_items": null,
      "left": null,
      "margin": null,
      "max_height": null,
      "max_width": null,
      "min_height": null,
      "min_width": null,
      "object_fit": null,
      "object_position": null,
      "order": null,
      "overflow": null,
      "overflow_x": null,
      "overflow_y": null,
      "padding": null,
      "right": null,
      "top": null,
      "visibility": null,
      "width": null
     }
    },
    "51948945111f437c9ed6ccab22072dd3": {
     "model_module": "@jupyter-widgets/controls",
     "model_module_version": "1.5.0",
     "model_name": "DescriptionStyleModel",
     "state": {
      "_model_module": "@jupyter-widgets/controls",
      "_model_module_version": "1.5.0",
      "_model_name": "DescriptionStyleModel",
      "_view_count": null,
      "_view_module": "@jupyter-widgets/base",
      "_view_module_version": "1.2.0",
      "_view_name": "StyleView",
      "description_width": ""
     }
    },
    "627f68389cf64e2a915a72ab147ee8a7": {
     "model_module": "@jupyter-widgets/controls",
     "model_module_version": "1.5.0",
     "model_name": "ProgressStyleModel",
     "state": {
      "_model_module": "@jupyter-widgets/controls",
      "_model_module_version": "1.5.0",
      "_model_name": "ProgressStyleModel",
      "_view_count": null,
      "_view_module": "@jupyter-widgets/base",
      "_view_module_version": "1.2.0",
      "_view_name": "StyleView",
      "bar_color": null,
      "description_width": ""
     }
    },
    "78cc90a50c0c4636b0f41436a820ecd3": {
     "model_module": "@jupyter-widgets/controls",
     "model_module_version": "1.5.0",
     "model_name": "ProgressStyleModel",
     "state": {
      "_model_module": "@jupyter-widgets/controls",
      "_model_module_version": "1.5.0",
      "_model_name": "ProgressStyleModel",
      "_view_count": null,
      "_view_module": "@jupyter-widgets/base",
      "_view_module_version": "1.2.0",
      "_view_name": "StyleView",
      "bar_color": null,
      "description_width": ""
     }
    },
    "81a0791760de4dcebd543c40d2c1e322": {
     "model_module": "@jupyter-widgets/controls",
     "model_module_version": "1.5.0",
     "model_name": "FloatProgressModel",
     "state": {
      "_dom_classes": [],
      "_model_module": "@jupyter-widgets/controls",
      "_model_module_version": "1.5.0",
      "_model_name": "FloatProgressModel",
      "_view_count": null,
      "_view_module": "@jupyter-widgets/controls",
      "_view_module_version": "1.5.0",
      "_view_name": "ProgressView",
      "bar_style": "success",
      "description": "",
      "description_tooltip": null,
      "layout": "IPY_MODEL_1b9f8a2a793640d689abc10f5f39c54b",
      "max": 2,
      "min": 0,
      "orientation": "horizontal",
      "style": "IPY_MODEL_627f68389cf64e2a915a72ab147ee8a7",
      "value": 2
     }
    },
    "8991360910ef417db03499f76f5fe323": {
     "model_module": "@jupyter-widgets/controls",
     "model_module_version": "1.5.0",
     "model_name": "DescriptionStyleModel",
     "state": {
      "_model_module": "@jupyter-widgets/controls",
      "_model_module_version": "1.5.0",
      "_model_name": "DescriptionStyleModel",
      "_view_count": null,
      "_view_module": "@jupyter-widgets/base",
      "_view_module_version": "1.2.0",
      "_view_name": "StyleView",
      "description_width": ""
     }
    },
    "96cea0d773c8426b8be72dd7f72e5a82": {
     "model_module": "@jupyter-widgets/controls",
     "model_module_version": "1.5.0",
     "model_name": "DescriptionStyleModel",
     "state": {
      "_model_module": "@jupyter-widgets/controls",
      "_model_module_version": "1.5.0",
      "_model_name": "DescriptionStyleModel",
      "_view_count": null,
      "_view_module": "@jupyter-widgets/base",
      "_view_module_version": "1.2.0",
      "_view_name": "StyleView",
      "description_width": ""
     }
    },
    "99577e7cbed74c89afb3d44d4fd956c5": {
     "model_module": "@jupyter-widgets/controls",
     "model_module_version": "1.5.0",
     "model_name": "FloatProgressModel",
     "state": {
      "_dom_classes": [],
      "_model_module": "@jupyter-widgets/controls",
      "_model_module_version": "1.5.0",
      "_model_name": "FloatProgressModel",
      "_view_count": null,
      "_view_module": "@jupyter-widgets/controls",
      "_view_module_version": "1.5.0",
      "_view_name": "ProgressView",
      "bar_style": "success",
      "description": "",
      "description_tooltip": null,
      "layout": "IPY_MODEL_4089236deafd4fa2be86d8dc0a29d469",
      "max": 2,
      "min": 0,
      "orientation": "horizontal",
      "style": "IPY_MODEL_78cc90a50c0c4636b0f41436a820ecd3",
      "value": 2
     }
    },
    "9eed940f3815428583b4ddefc1a81469": {
     "model_module": "@jupyter-widgets/base",
     "model_module_version": "1.2.0",
     "model_name": "LayoutModel",
     "state": {
      "_model_module": "@jupyter-widgets/base",
      "_model_module_version": "1.2.0",
      "_model_name": "LayoutModel",
      "_view_count": null,
      "_view_module": "@jupyter-widgets/base",
      "_view_module_version": "1.2.0",
      "_view_name": "LayoutView",
      "align_content": null,
      "align_items": null,
      "align_self": null,
      "border": null,
      "bottom": null,
      "display": null,
      "flex": null,
      "flex_flow": null,
      "grid_area": null,
      "grid_auto_columns": null,
      "grid_auto_flow": null,
      "grid_auto_rows": null,
      "grid_column": null,
      "grid_gap": null,
      "grid_row": null,
      "grid_template_areas": null,
      "grid_template_columns": null,
      "grid_template_rows": null,
      "height": null,
      "justify_content": null,
      "justify_items": null,
      "left": null,
      "margin": null,
      "max_height": null,
      "max_width": null,
      "min_height": null,
      "min_width": null,
      "object_fit": null,
      "object_position": null,
      "order": null,
      "overflow": null,
      "overflow_x": null,
      "overflow_y": null,
      "padding": null,
      "right": null,
      "top": null,
      "visibility": null,
      "width": null
     }
    },
    "a729c5fc5c764c85885cac7a2d4d95d0": {
     "model_module": "@jupyter-widgets/controls",
     "model_module_version": "1.5.0",
     "model_name": "HTMLModel",
     "state": {
      "_dom_classes": [],
      "_model_module": "@jupyter-widgets/controls",
      "_model_module_version": "1.5.0",
      "_model_name": "HTMLModel",
      "_view_count": null,
      "_view_module": "@jupyter-widgets/controls",
      "_view_module_version": "1.5.0",
      "_view_name": "HTMLView",
      "description": "",
      "description_tooltip": null,
      "layout": "IPY_MODEL_9eed940f3815428583b4ddefc1a81469",
      "placeholder": "​",
      "style": "IPY_MODEL_0b9230e976b34a9ea85978cf22857012",
      "value": "Loading safetensors checkpoint shards: 100% Completed | 2/2 [00:51&lt;00:00, 25.46s/it]\n"
     }
    },
    "d034c840e7f74177a7b07a188d666b8d": {
     "model_module": "@jupyter-widgets/controls",
     "model_module_version": "1.5.0",
     "model_name": "HTMLModel",
     "state": {
      "_dom_classes": [],
      "_model_module": "@jupyter-widgets/controls",
      "_model_module_version": "1.5.0",
      "_model_name": "HTMLModel",
      "_view_count": null,
      "_view_module": "@jupyter-widgets/controls",
      "_view_module_version": "1.5.0",
      "_view_name": "HTMLView",
      "description": "",
      "description_tooltip": null,
      "layout": "IPY_MODEL_129dc789722b43439574390bba63b36a",
      "placeholder": "​",
      "style": "IPY_MODEL_8991360910ef417db03499f76f5fe323",
      "value": "Loading safetensors checkpoint shards: 100% Completed | 2/2 [00:47&lt;00:00, 23.63s/it]\n"
     }
    },
    "d6d5a7d96a034247b38d25d8a9cc979c": {
     "model_module": "@jupyter-widgets/base",
     "model_module_version": "1.2.0",
     "model_name": "LayoutModel",
     "state": {
      "_model_module": "@jupyter-widgets/base",
      "_model_module_version": "1.2.0",
      "_model_name": "LayoutModel",
      "_view_count": null,
      "_view_module": "@jupyter-widgets/base",
      "_view_module_version": "1.2.0",
      "_view_name": "LayoutView",
      "align_content": null,
      "align_items": null,
      "align_self": null,
      "border": null,
      "bottom": null,
      "display": null,
      "flex": null,
      "flex_flow": null,
      "grid_area": null,
      "grid_auto_columns": null,
      "grid_auto_flow": null,
      "grid_auto_rows": null,
      "grid_column": null,
      "grid_gap": null,
      "grid_row": null,
      "grid_template_areas": null,
      "grid_template_columns": null,
      "grid_template_rows": null,
      "height": null,
      "justify_content": null,
      "justify_items": null,
      "left": null,
      "margin": null,
      "max_height": null,
      "max_width": null,
      "min_height": null,
      "min_width": null,
      "object_fit": null,
      "object_position": null,
      "order": null,
      "overflow": null,
      "overflow_x": null,
      "overflow_y": null,
      "padding": null,
      "right": null,
      "top": null,
      "visibility": null,
      "width": null
     }
    },
    "e43ad27d5d304d1ebf9b374016409a97": {
     "model_module": "@jupyter-widgets/base",
     "model_module_version": "1.2.0",
     "model_name": "LayoutModel",
     "state": {
      "_model_module": "@jupyter-widgets/base",
      "_model_module_version": "1.2.0",
      "_model_name": "LayoutModel",
      "_view_count": null,
      "_view_module": "@jupyter-widgets/base",
      "_view_module_version": "1.2.0",
      "_view_name": "LayoutView",
      "align_content": null,
      "align_items": null,
      "align_self": null,
      "border": null,
      "bottom": null,
      "display": null,
      "flex": null,
      "flex_flow": null,
      "grid_area": null,
      "grid_auto_columns": null,
      "grid_auto_flow": null,
      "grid_auto_rows": null,
      "grid_column": null,
      "grid_gap": null,
      "grid_row": null,
      "grid_template_areas": null,
      "grid_template_columns": null,
      "grid_template_rows": null,
      "height": null,
      "justify_content": null,
      "justify_items": null,
      "left": null,
      "margin": null,
      "max_height": null,
      "max_width": null,
      "min_height": null,
      "min_width": null,
      "object_fit": null,
      "object_position": null,
      "order": null,
      "overflow": null,
      "overflow_x": null,
      "overflow_y": null,
      "padding": null,
      "right": null,
      "top": null,
      "visibility": null,
      "width": null
     }
    },
    "f57d844b2efa469e8aadd48175ce70ab": {
     "model_module": "@jupyter-widgets/controls",
     "model_module_version": "1.5.0",
     "model_name": "HBoxModel",
     "state": {
      "_dom_classes": [],
      "_model_module": "@jupyter-widgets/controls",
      "_model_module_version": "1.5.0",
      "_model_name": "HBoxModel",
      "_view_count": null,
      "_view_module": "@jupyter-widgets/controls",
      "_view_module_version": "1.5.0",
      "_view_name": "HBoxView",
      "box_style": "",
      "children": [
       "IPY_MODEL_47d2fd7f76754d9fa156576bc0c58abb",
       "IPY_MODEL_81a0791760de4dcebd543c40d2c1e322",
       "IPY_MODEL_a729c5fc5c764c85885cac7a2d4d95d0"
      ],
      "layout": "IPY_MODEL_d6d5a7d96a034247b38d25d8a9cc979c"
     }
    }
   }
  }
 },
 "nbformat": 4,
 "nbformat_minor": 4
}
